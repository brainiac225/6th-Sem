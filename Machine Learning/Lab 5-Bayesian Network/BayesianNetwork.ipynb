{
 "cells": [
  {
   "cell_type": "markdown",
   "metadata": {},
   "source": [
    "#### In this program we will import pgmpy package to use BayesianModel for designing a bayesian network, use TabularCPD to define the conditional probability distribution in a tabular format and use VariableElimination for eliminating variables we dont need for prediction of a situation.\n",
    "#### First, we will define what all variables we need for this data and make a bayesian model. \n",
    "#### Then we will define the conditional probability distributions in the tabular form.\n",
    "#### FInally we can print any prediction query statement that states a particular scenario given evidence. "
   ]
  },
  {
   "cell_type": "code",
   "execution_count": 18,
   "metadata": {},
   "outputs": [],
   "source": [
    "from pgmpy.models import BayesianModel\n",
    "from pgmpy.factors.discrete import TabularCPD\n",
    "from pgmpy.inference import VariableElimination"
   ]
  },
  {
   "cell_type": "code",
   "execution_count": 19,
   "metadata": {},
   "outputs": [
    {
     "name": "stdout",
     "output_type": "stream",
     "text": [
      "Bayesian network models are :\n",
      "\t ['Pollution', 'Cancer', 'Smoker', 'Xray', 'Dyspnea']\n",
      "Bayesian edges are:\n",
      "\t [('Pollution', 'Cancer'), ('Cancer', 'Xray'), ('Cancer', 'Dyspnea'), ('Smoker', 'Cancer')]\n"
     ]
    }
   ],
   "source": [
    "cancer_model=BayesianModel([('Pollution','Cancer'),('Smoker','Cancer'),('Cancer','Xray'),('Cancer','Dyspnea')])\n",
    "print('Bayesian network models are :')\n",
    "print('\\t',cancer_model.nodes())\n",
    "print('Bayesian edges are:')\n",
    "print('\\t',cancer_model.edges())"
   ]
  },
  {
   "cell_type": "code",
   "execution_count": 20,
   "metadata": {},
   "outputs": [],
   "source": [
    "cpd_poll = TabularCPD(variable='Pollution', variable_card=2,\n",
    "                      values=[[0.9], [0.1]])\n",
    "cpd_smoke = TabularCPD(variable='Smoker', variable_card=2,\n",
    "                       values=[[0.3], [0.7]])\n",
    "cpd_cancer = TabularCPD(variable='Cancer', variable_card=2,\n",
    "                        values=[[0.03, 0.05, 0.001, 0.02],\n",
    "                                [0.97, 0.95, 0.999, 0.98]],\n",
    "                        evidence=['Smoker', 'Pollution'],\n",
    "                        evidence_card=[2, 2])\n",
    "cpd_xray = TabularCPD(variable='Xray', variable_card=2,\n",
    "                      values=[[0.9, 0.2], [0.1, 0.8]],\n",
    "                      evidence=['Cancer'], evidence_card=[2])\n",
    "cpd_dysp = TabularCPD(variable='Dyspnea', variable_card=2,\n",
    "                      values=[[0.65, 0.3], [0.35, 0.7]],\n",
    "                      evidence=['Cancer'], evidence_card=[2])"
   ]
  },
  {
   "cell_type": "code",
   "execution_count": 21,
   "metadata": {},
   "outputs": [
    {
     "data": {
      "text/plain": [
       "True"
      ]
     },
     "execution_count": 21,
     "metadata": {},
     "output_type": "execute_result"
    }
   ],
   "source": [
    "# Associating the parameters with the model structure.\n",
    "cancer_model.add_cpds(cpd_poll, cpd_smoke, cpd_cancer, cpd_xray, cpd_dysp)\n",
    "\n",
    "# Checking if the cpds are valid for the model.\n",
    "cancer_model.check_model()"
   ]
  },
  {
   "cell_type": "code",
   "execution_count": 22,
   "metadata": {},
   "outputs": [],
   "source": [
    "cancer_infer=VariableElimination(cancer_model)"
   ]
  },
  {
   "cell_type": "code",
   "execution_count": 23,
   "metadata": {},
   "outputs": [
    {
     "name": "stdout",
     "output_type": "stream",
     "text": [
      "All local independecies are as follows\n",
      "Displaying CPDs\n",
      "+--------------+-----+\n",
      "| Pollution(0) | 0.9 |\n",
      "+--------------+-----+\n",
      "| Pollution(1) | 0.1 |\n",
      "+--------------+-----+\n",
      "+-----------+-----+\n",
      "| Smoker(0) | 0.3 |\n",
      "+-----------+-----+\n",
      "| Smoker(1) | 0.7 |\n",
      "+-----------+-----+\n",
      "+-----------+--------------+--------------+--------------+--------------+\n",
      "| Smoker    | Smoker(0)    | Smoker(0)    | Smoker(1)    | Smoker(1)    |\n",
      "+-----------+--------------+--------------+--------------+--------------+\n",
      "| Pollution | Pollution(0) | Pollution(1) | Pollution(0) | Pollution(1) |\n",
      "+-----------+--------------+--------------+--------------+--------------+\n",
      "| Cancer(0) | 0.03         | 0.05         | 0.001        | 0.02         |\n",
      "+-----------+--------------+--------------+--------------+--------------+\n",
      "| Cancer(1) | 0.97         | 0.95         | 0.999        | 0.98         |\n",
      "+-----------+--------------+--------------+--------------+--------------+\n",
      "+---------+-----------+-----------+\n",
      "| Cancer  | Cancer(0) | Cancer(1) |\n",
      "+---------+-----------+-----------+\n",
      "| Xray(0) | 0.9       | 0.2       |\n",
      "+---------+-----------+-----------+\n",
      "| Xray(1) | 0.1       | 0.8       |\n",
      "+---------+-----------+-----------+\n",
      "+------------+-----------+-----------+\n",
      "| Cancer     | Cancer(0) | Cancer(1) |\n",
      "+------------+-----------+-----------+\n",
      "| Dyspnea(0) | 0.65      | 0.3       |\n",
      "+------------+-----------+-----------+\n",
      "| Dyspnea(1) | 0.35      | 0.7       |\n",
      "+------------+-----------+-----------+\n"
     ]
    }
   ],
   "source": [
    "print('All local independecies are as follows')\n",
    "cancer_model.get_independencies()\n",
    "print('Displaying CPDs')\n",
    "print(cancer_model.get_cpds('Pollution'))\n",
    "print(cancer_model.get_cpds('Smoker'))\n",
    "print(cancer_model.get_cpds('Cancer'))\n",
    "print(cancer_model.get_cpds('Xray'))\n",
    "print(cancer_model.get_cpds('Dyspnea'))"
   ]
  },
  {
   "cell_type": "code",
   "execution_count": 24,
   "metadata": {},
   "outputs": [
    {
     "name": "stderr",
     "output_type": "stream",
     "text": [
      "Finding Elimination Order: :   0%|                                                               | 0/3 [00:00<?, ?it/s]\n",
      "  0%|                                                                                            | 0/3 [00:00<?, ?it/s]\u001b[A\n",
      "Eliminating: Pollution:   0%|                                                                    | 0/3 [00:00<?, ?it/s]\u001b[A\n",
      "Eliminating: Dyspnea:   0%|                                                                      | 0/3 [00:00<?, ?it/s]\u001b[A\n",
      "Eliminating: Xray: 100%|████████████████████████████████████████████████████████████████| 3/3 [00:00<00:00, 285.30it/s]\u001b[A"
     ]
    },
    {
     "name": "stdout",
     "output_type": "stream",
     "text": [
      "\n",
      " Probablity of Cancer given smoker\n",
      "+-----------+---------------+\n",
      "| Cancer    |   phi(Cancer) |\n",
      "+===========+===============+\n",
      "| Cancer(0) |        0.0029 |\n",
      "+-----------+---------------+\n",
      "| Cancer(1) |        0.9971 |\n",
      "+-----------+---------------+\n"
     ]
    },
    {
     "name": "stderr",
     "output_type": "stream",
     "text": [
      "\n"
     ]
    }
   ],
   "source": [
    "print('\\n Probablity of Cancer given smoker')\n",
    "q=cancer_infer.query(variables=['Cancer'],evidence={'Smoker':1})\n",
    "print(q)"
   ]
  },
  {
   "cell_type": "code",
   "execution_count": 25,
   "metadata": {
    "scrolled": true
   },
   "outputs": [
    {
     "name": "stderr",
     "output_type": "stream",
     "text": [
      "\n",
      "  0%|                                                                                            | 0/2 [00:00<?, ?it/s]\u001b[A\n",
      "Finding Elimination Order: :   0%|                                                               | 0/2 [00:00<?, ?it/s]\u001b[A\n",
      "\n",
      "  0%|                                                                                            | 0/2 [00:00<?, ?it/s]\u001b[A\u001b[A\n",
      "\n",
      "Eliminating: Dyspnea:   0%|                                                                      | 0/2 [00:00<?, ?it/s]\u001b[A\u001b[A\n",
      "\n",
      "Eliminating: Xray: 100%|████████████████████████████████████████████████████████████████| 2/2 [00:00<00:00, 247.53it/s]\u001b[A\u001b[A"
     ]
    },
    {
     "name": "stdout",
     "output_type": "stream",
     "text": [
      "\n",
      " Probablity of Cancer given smoker, pollution\n",
      "+-----------+---------------+\n",
      "| Cancer    |   phi(Cancer) |\n",
      "+===========+===============+\n",
      "| Cancer(0) |        0.0200 |\n",
      "+-----------+---------------+\n",
      "| Cancer(1) |        0.9800 |\n",
      "+-----------+---------------+\n"
     ]
    },
    {
     "name": "stderr",
     "output_type": "stream",
     "text": [
      "\n"
     ]
    }
   ],
   "source": [
    "print('\\n Probablity of Cancer given smoker, pollution')\n",
    "q=cancer_infer.query(variables=['Cancer'],evidence={'Smoker':1,'Pollution':1})\n",
    "print(q)"
   ]
  },
  {
   "cell_type": "code",
   "execution_count": null,
   "metadata": {},
   "outputs": [],
   "source": []
  }
 ],
 "metadata": {
  "kernelspec": {
   "display_name": "Python 3",
   "language": "python",
   "name": "python3"
  },
  "language_info": {
   "codemirror_mode": {
    "name": "ipython",
    "version": 3
   },
   "file_extension": ".py",
   "mimetype": "text/x-python",
   "name": "python",
   "nbconvert_exporter": "python",
   "pygments_lexer": "ipython3",
   "version": "3.8.5"
  }
 },
 "nbformat": 4,
 "nbformat_minor": 4
}
